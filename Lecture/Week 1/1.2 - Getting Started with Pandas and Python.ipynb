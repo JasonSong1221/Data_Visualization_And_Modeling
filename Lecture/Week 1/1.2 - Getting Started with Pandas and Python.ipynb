{
 "cells": [
  {
   "cell_type": "markdown",
   "metadata": {},
   "source": [
    "# Some Python Basics\n",
    "\n",
    "## Variables"
   ]
  },
  {
   "cell_type": "markdown",
   "metadata": {},
   "source": [
    "Variables in Python are dynamically typed, meaning that the type is inferred from assignment, which is often referred to as duck typing (if it acts like a duck and looks like a duck, its a duck).  \n"
   ]
  },
  {
   "cell_type": "code",
   "execution_count": 1,
   "metadata": {},
   "outputs": [
    {
     "name": "stdout",
     "output_type": "stream",
     "text": [
      "<class 'str'> <class 'int'> <class 'float'>\n"
     ]
    }
   ],
   "source": [
    "x1 = \"5\"\n",
    "x2 = 5\n",
    "x3 = 5.0\n",
    "\n",
    "print(type(x1), type(x2), type(x3))"
   ]
  },
  {
   "cell_type": "code",
   "execution_count": null,
   "metadata": {
    "tags": []
   },
   "outputs": [],
   "source": []
  },
  {
   "cell_type": "code",
   "execution_count": null,
   "metadata": {
    "tags": []
   },
   "outputs": [],
   "source": []
  },
  {
   "cell_type": "code",
   "execution_count": null,
   "metadata": {
    "tags": []
   },
   "outputs": [],
   "source": []
  },
  {
   "cell_type": "code",
   "execution_count": null,
   "metadata": {
    "tags": []
   },
   "outputs": [],
   "source": []
  },
  {
   "cell_type": "markdown",
   "metadata": {},
   "source": [
    "To get more inforation on a variables type, you can use either the type() function."
   ]
  },
  {
   "cell_type": "code",
   "execution_count": null,
   "metadata": {},
   "outputs": [],
   "source": []
  },
  {
   "cell_type": "markdown",
   "metadata": {},
   "source": [
    "We can also get input from users to fill our variables."
   ]
  },
  {
   "cell_type": "code",
   "execution_count": 4,
   "metadata": {
    "tags": []
   },
   "outputs": [
    {
     "name": "stdin",
     "output_type": "stream",
     "text": [
      "What is your favorite food? chocolate chip cookies\n"
     ]
    },
    {
     "name": "stdout",
     "output_type": "stream",
     "text": [
      "There are chocolate chip cookiesin the break room\n"
     ]
    }
   ],
   "source": [
    "\n",
    "x4 = input('What is your favorite food?')\n",
    "\n",
    "print(\"There are \" + x4 + \"in the break room\")\n"
   ]
  },
  {
   "cell_type": "code",
   "execution_count": null,
   "metadata": {
    "tags": []
   },
   "outputs": [],
   "source": []
  },
  {
   "cell_type": "markdown",
   "metadata": {},
   "source": [
    "## Booleans"
   ]
  },
  {
   "cell_type": "markdown",
   "metadata": {},
   "source": [
    "Booleans can be handy when working with dataframes, as we will see later.  You can also add them and they are interpreted as False = 0 and True = 1"
   ]
  },
  {
   "cell_type": "code",
   "execution_count": 5,
   "metadata": {
    "tags": []
   },
   "outputs": [
    {
     "name": "stdout",
     "output_type": "stream",
     "text": [
      "1\n"
     ]
    }
   ],
   "source": [
    "x5 = True\n",
    "x6 = False\n",
    "\n",
    "print(x5 + x6)"
   ]
  },
  {
   "cell_type": "markdown",
   "metadata": {},
   "source": [
    "## Strings\n",
    "Strings in Python are created with ' or \" and are immutable, if changes need to be made to a string a new one is returned.  The default encoding for strings in Python is Unicode UTF-8, this means that they are automatically compatible with different languages.  Python strings work similar to STL strings since they are classes with support functions built in, however in Python the amount of functionality is much larger."
   ]
  },
  {
   "cell_type": "code",
   "execution_count": 7,
   "metadata": {},
   "outputs": [
    {
     "name": "stdout",
     "output_type": "stream",
     "text": [
      "the winter park library\n",
      "the winter park library\n"
     ]
    }
   ],
   "source": [
    "x7 = \"The Winter park library\"\n",
    "x8 = \"THE WINTER PARK LIBRARY\"\n",
    "\n",
    "x9 = x7.lower()\n",
    "x10 = x8.lower()\n",
    "\n",
    "print(x9)\n",
    "print(x10)\n"
   ]
  },
  {
   "cell_type": "markdown",
   "metadata": {},
   "source": [
    "## Lists\n",
    "In c++ choosing which container to use is actually very important (list, queue, stack, vector, array?), in Python this choice is simplified into a single container that has the functionality of everything.  To create a list use the square brackets [].  Notice that the types don't have to match, we don't care about variable types."
   ]
  },
  {
   "cell_type": "code",
   "execution_count": 8,
   "metadata": {},
   "outputs": [
    {
     "name": "stdout",
     "output_type": "stream",
     "text": [
      "[1, 2, 4.0, True, None, False]\n"
     ]
    }
   ],
   "source": [
    "list1 = [1, 2, 4.0, True, None, False]\n",
    "\n",
    "print(list1)"
   ]
  },
  {
   "cell_type": "markdown",
   "metadata": {},
   "source": [
    "# Pandas\n",
    "In the last lesson, we got to see Pandas in action by using it to make some visualizations of the data science salaries data.  Let's take some time to explore some of the cool features of Python and Pandas.\n",
    "\n",
    "## The History of Pandas\n",
    "\n",
    "Origins:\n",
    "\n",
    "* 2008: The Pandas project was started by Wes McKinney when he was working at AQR Capital Management. The main motivation was to have a flexible tool to perform quantitative analysis on financial data. The name \"pandas\" is derived from the term \"panel data,\" a common term for data that involves observations over time.\n",
    "\n",
    "Early Development:\n",
    "\n",
    "* 2009: Wes McKinney released the first public version of pandas. The initial versions laid the foundation with data structures like Series and DataFrame, which have since become staples for data manipulation in Python.\n",
    "\n",
    "Increasing Adoption:\n",
    "\n",
    "* 2010s: As data science and Python grew in popularity during the 2010s, so did pandas. It quickly became one of the cornerstones of the scientific stack in Python alongside libraries like NumPy, SciPy, and Matplotlib.\n",
    "The library received significant contributions from many developers worldwide, enhancing its capabilities and making it more robust.\n",
    "\n",
    "Books and Documentation:\n",
    "\n",
    "* 2012: Wes McKinney published \"Python for Data Analysis,\" which prominently features pandas and its application in data analysis. This book played a crucial role in introducing many individuals to pandas and data analysis in Python.\n",
    "\n",
    "\n",
    "Pandas is often seen as a gateway to data science in Python. Its simple yet powerful interface makes it a favorite for beginners and professionals alike.\n",
    "With the rise of big data tools like Apache Spark, Dask, and Vaex, pandas also integrates with these tools, allowing users to scale their analyses when necessary.\n",
    "\n",
    "## DataFrames and Series\n",
    "\n",
    "The DataFrame is the primary structure we will be using for this class.  It is an associative, two dimensional data structure. Imagine a spreadsheet page,  SQL table, or flat file.  The series object is a one dimensional data structure that represents a single column of data.\n",
    "\n",
    "We can manually create a DataFrame from dictionaries, lists, series, and much else.  We can also add new features to a DataFrame, or even combine multiple DataFrames.  If our data is provided to us we can read or write to a variety of different formats: CSV, Excel, SQL, JSON, URL, clipboard, etc.\n",
    "\n",
    "A series object can be thought of as single column of a DataFrame."
   ]
  },
  {
   "cell_type": "markdown",
   "metadata": {},
   "source": [
    "## Common useful Pandas methods\n",
    "\n",
    "### DataFrame Creation and Input/Output\n",
    "- `pd.DataFrame()`: Create a DataFrame.\n",
    "- `pd.read_csv()`: Read a CSV file into a DataFrame.\n",
    "- `pd.read_excel()`: Read an Excel file into a DataFrame.\n",
    "- `df.to_csv()`: Write a DataFrame to a CSV file.\n",
    "- `df.to_excel()`: Write a DataFrame to an Excel file.\n",
    "\n",
    "### Viewing and Inspecting Data\n",
    "- `df.head()`: View the first few rows of the DataFrame.\n",
    "- `df.tail()`: View the last few rows of the DataFrame.\n",
    "- `df.info()`: Get a concise summary of the DataFrame.\n",
    "- `df.describe()`: Generate descriptive statistics.\n",
    "- `df.shape`: Get the dimensions of the DataFrame.\n",
    "- `df.columns`: Get the column labels.\n",
    "- `df.index`: Get the row labels.\n",
    "\n",
    "### Selection and Filtering\n",
    "- `df.loc[]`: Access a group of rows and columns by labels.\n",
    "- `df.iloc[]`: Access a group of rows and columns by integer position.\n",
    "- `df[df['column'] > value]`: Filter rows based on column values.\n",
    "- `df.query()`: Query the DataFrame with a boolean expression.\n",
    "\n",
    "### Grouping and Aggregation\n",
    "- `df.groupby()`: Group data by one or more columns.\n",
    "- `df.agg()`: Aggregate using one or more operations over the specified axis.\n",
    "- `df.size()`: Get the size of the DataFrame.\n",
    "- `df.sum()`: Compute the sum of values.\n",
    "- `df.mean()`: Compute the mean of values.\n",
    "- `df.median()`: Compute the median of values.\n",
    "- `df.min()`: Compute the minimum of values.\n",
    "- `df.max()`: Compute the maximum of values.\n",
    "- `df.count()`: Count the number of non-NA/null observations.\n",
    "\n",
    "### Data Cleaning and Preparation\n",
    "- `df.drop()`: Drop specified labels from rows or columns.\n",
    "- `df.dropna()`: Remove missing values.\n",
    "- `df.fillna()`: Fill missing values.\n",
    "- `df.replace()`: Replace values.\n",
    "- `df.rename()`: Rename labels.\n",
    "- `df.astype()`: Cast a pandas object to a specified dtype.\n",
    "- `df.sort_values()`: Sort by the values along either axis.\n",
    "- `df.sort_index()`: Sort by the index.\n",
    "- `df.set_index()`: Set the DataFrame index using existing columns.\n",
    "- `df.reset_index()`: Reset the index, or a level of it.\n",
    "\n",
    "### Merging and Joining\n",
    "- `pd.merge()`: Merge DataFrame objects by performing a database-style join.\n",
    "- `df.join()`: Join columns with other DataFrame.\n",
    "- `pd.concat()`: Concatenate pandas objects along a particular axis.\n",
    "\n",
    "### Date and Time\n",
    "- `pd.to_datetime()`: Convert argument to datetime.\n",
    "- `df['column'].dt`: Accessor object for datetime-like properties.\n",
    "\n",
    "### String Methods\n",
    "- `df['column'].str`: Accessor object for string methods.\n",
    "- `df['column'].str.contains()`: Test if pattern or regex is contained within a string of a Series or Index.\n",
    "- `df['column'].str.replace()`: Replace occurrences of pattern/regex/string with some other string.\n",
    "\n",
    "### Statistical Functions\n",
    "- `df.corr()`: Compute pairwise correlation of columns.\n",
    "- `df.cov()`: Compute pairwise covariance of columns.\n",
    "- `df.var()`: Compute variance of columns.\n",
    "- `df.std()`: Compute standard deviation of columns.\n",
    "- `df.mad()`: Compute mean absolute deviation of columns.\n",
    "- `df.kurt()`: Compute kurtosis of columns.\n",
    "- `df.skew()`: Compute skewness of columns.\n",
    "\n",
    "### Visualization\n",
    "- `df.plot()`: Make plots of DataFrame using matplotlib.\n",
    "\n",
    "### Miscellaneous\n",
    "- `df.pivot()`: Produce pivot table based on 3 columns of this DataFrame.\n",
    "- `df.pivot_table()`: Create a spreadsheet-style pivot table as a DataFrame.\n",
    "- `df.apply()`: Apply a function along an axis of the DataFrame.\n",
    "- `df.applymap()`: Apply a function to a DataFrame elementwise.\n"
   ]
  },
  {
   "cell_type": "markdown",
   "metadata": {
    "tags": []
   },
   "source": [
    "## Data wrangling"
   ]
  },
  {
   "cell_type": "markdown",
   "metadata": {},
   "source": [
    "Let's explore the cybersecurity threat data using Pandas methods."
   ]
  },
  {
   "cell_type": "code",
   "execution_count": 10,
   "metadata": {},
   "outputs": [
    {
     "data": {
      "text/html": [
       "<div>\n",
       "<style scoped>\n",
       "    .dataframe tbody tr th:only-of-type {\n",
       "        vertical-align: middle;\n",
       "    }\n",
       "\n",
       "    .dataframe tbody tr th {\n",
       "        vertical-align: top;\n",
       "    }\n",
       "\n",
       "    .dataframe thead th {\n",
       "        text-align: right;\n",
       "    }\n",
       "</style>\n",
       "<table border=\"1\" class=\"dataframe\">\n",
       "  <thead>\n",
       "    <tr style=\"text-align: right;\">\n",
       "      <th></th>\n",
       "      <th>Country</th>\n",
       "      <th>Year</th>\n",
       "      <th>Attack Type</th>\n",
       "      <th>Target Industry</th>\n",
       "      <th>Financial Loss (in Million $)</th>\n",
       "      <th>Number of Affected Users</th>\n",
       "      <th>Attack Source</th>\n",
       "      <th>Security Vulnerability Type</th>\n",
       "      <th>Defense Mechanism Used</th>\n",
       "      <th>Incident Resolution Time (in Hours)</th>\n",
       "    </tr>\n",
       "  </thead>\n",
       "  <tbody>\n",
       "    <tr>\n",
       "      <th>2995</th>\n",
       "      <td>UK</td>\n",
       "      <td>2021</td>\n",
       "      <td>Ransomware</td>\n",
       "      <td>Government</td>\n",
       "      <td>51.42</td>\n",
       "      <td>190694</td>\n",
       "      <td>Unknown</td>\n",
       "      <td>Social Engineering</td>\n",
       "      <td>Firewall</td>\n",
       "      <td>52</td>\n",
       "    </tr>\n",
       "    <tr>\n",
       "      <th>2996</th>\n",
       "      <td>Brazil</td>\n",
       "      <td>2023</td>\n",
       "      <td>SQL Injection</td>\n",
       "      <td>Telecommunications</td>\n",
       "      <td>30.28</td>\n",
       "      <td>892843</td>\n",
       "      <td>Hacker Group</td>\n",
       "      <td>Zero-day</td>\n",
       "      <td>VPN</td>\n",
       "      <td>26</td>\n",
       "    </tr>\n",
       "    <tr>\n",
       "      <th>2997</th>\n",
       "      <td>Brazil</td>\n",
       "      <td>2017</td>\n",
       "      <td>SQL Injection</td>\n",
       "      <td>IT</td>\n",
       "      <td>32.97</td>\n",
       "      <td>734737</td>\n",
       "      <td>Nation-state</td>\n",
       "      <td>Weak Passwords</td>\n",
       "      <td>AI-based Detection</td>\n",
       "      <td>30</td>\n",
       "    </tr>\n",
       "    <tr>\n",
       "      <th>2998</th>\n",
       "      <td>UK</td>\n",
       "      <td>2022</td>\n",
       "      <td>SQL Injection</td>\n",
       "      <td>IT</td>\n",
       "      <td>32.17</td>\n",
       "      <td>379954</td>\n",
       "      <td>Insider</td>\n",
       "      <td>Unpatched Software</td>\n",
       "      <td>Firewall</td>\n",
       "      <td>9</td>\n",
       "    </tr>\n",
       "    <tr>\n",
       "      <th>2999</th>\n",
       "      <td>Germany</td>\n",
       "      <td>2021</td>\n",
       "      <td>SQL Injection</td>\n",
       "      <td>Retail</td>\n",
       "      <td>48.20</td>\n",
       "      <td>480984</td>\n",
       "      <td>Unknown</td>\n",
       "      <td>Zero-day</td>\n",
       "      <td>VPN</td>\n",
       "      <td>64</td>\n",
       "    </tr>\n",
       "  </tbody>\n",
       "</table>\n",
       "</div>"
      ],
      "text/plain": [
       "      Country  Year    Attack Type     Target Industry  \\\n",
       "2995       UK  2021     Ransomware          Government   \n",
       "2996   Brazil  2023  SQL Injection  Telecommunications   \n",
       "2997   Brazil  2017  SQL Injection                  IT   \n",
       "2998       UK  2022  SQL Injection                  IT   \n",
       "2999  Germany  2021  SQL Injection              Retail   \n",
       "\n",
       "      Financial Loss (in Million $)  Number of Affected Users Attack Source  \\\n",
       "2995                          51.42                    190694       Unknown   \n",
       "2996                          30.28                    892843  Hacker Group   \n",
       "2997                          32.97                    734737  Nation-state   \n",
       "2998                          32.17                    379954       Insider   \n",
       "2999                          48.20                    480984       Unknown   \n",
       "\n",
       "     Security Vulnerability Type Defense Mechanism Used  \\\n",
       "2995          Social Engineering               Firewall   \n",
       "2996                    Zero-day                    VPN   \n",
       "2997              Weak Passwords     AI-based Detection   \n",
       "2998          Unpatched Software               Firewall   \n",
       "2999                    Zero-day                    VPN   \n",
       "\n",
       "      Incident Resolution Time (in Hours)  \n",
       "2995                                   52  \n",
       "2996                                   26  \n",
       "2997                                   30  \n",
       "2998                                    9  \n",
       "2999                                   64  "
      ]
     },
     "execution_count": 10,
     "metadata": {},
     "output_type": "execute_result"
    }
   ],
   "source": [
    "import pandas as pd\n",
    "\n",
    "df = pd.read_csv('assets/Cybersecurity.csv')\n",
    "\n"
   ]
  },
  {
   "cell_type": "code",
   "execution_count": 11,
   "metadata": {
    "tags": []
   },
   "outputs": [
    {
     "data": {
      "text/plain": [
       "(3000, 10)"
      ]
     },
     "execution_count": 11,
     "metadata": {},
     "output_type": "execute_result"
    }
   ],
   "source": [
    "df.shape"
   ]
  },
  {
   "cell_type": "code",
   "execution_count": 12,
   "metadata": {
    "tags": []
   },
   "outputs": [
    {
     "name": "stdout",
     "output_type": "stream",
     "text": [
      "<class 'pandas.core.frame.DataFrame'>\n",
      "RangeIndex: 3000 entries, 0 to 2999\n",
      "Data columns (total 10 columns):\n",
      " #   Column                               Non-Null Count  Dtype  \n",
      "---  ------                               --------------  -----  \n",
      " 0   Country                              3000 non-null   object \n",
      " 1   Year                                 3000 non-null   int64  \n",
      " 2   Attack Type                          3000 non-null   object \n",
      " 3   Target Industry                      3000 non-null   object \n",
      " 4   Financial Loss (in Million $)        3000 non-null   float64\n",
      " 5   Number of Affected Users             3000 non-null   int64  \n",
      " 6   Attack Source                        3000 non-null   object \n",
      " 7   Security Vulnerability Type          3000 non-null   object \n",
      " 8   Defense Mechanism Used               3000 non-null   object \n",
      " 9   Incident Resolution Time (in Hours)  3000 non-null   int64  \n",
      "dtypes: float64(1), int64(3), object(6)\n",
      "memory usage: 234.5+ KB\n"
     ]
    }
   ],
   "source": [
    "df.info()"
   ]
  },
  {
   "cell_type": "code",
   "execution_count": 15,
   "metadata": {
    "tags": []
   },
   "outputs": [
    {
     "data": {
      "text/html": [
       "<div>\n",
       "<style scoped>\n",
       "    .dataframe tbody tr th:only-of-type {\n",
       "        vertical-align: middle;\n",
       "    }\n",
       "\n",
       "    .dataframe tbody tr th {\n",
       "        vertical-align: top;\n",
       "    }\n",
       "\n",
       "    .dataframe thead th {\n",
       "        text-align: right;\n",
       "    }\n",
       "</style>\n",
       "<table border=\"1\" class=\"dataframe\">\n",
       "  <thead>\n",
       "    <tr style=\"text-align: right;\">\n",
       "      <th></th>\n",
       "      <th>Country</th>\n",
       "      <th>Attack Type</th>\n",
       "      <th>Target Industry</th>\n",
       "      <th>Attack Source</th>\n",
       "      <th>Security Vulnerability Type</th>\n",
       "      <th>Defense Mechanism Used</th>\n",
       "    </tr>\n",
       "  </thead>\n",
       "  <tbody>\n",
       "    <tr>\n",
       "      <th>count</th>\n",
       "      <td>3000</td>\n",
       "      <td>3000</td>\n",
       "      <td>3000</td>\n",
       "      <td>3000</td>\n",
       "      <td>3000</td>\n",
       "      <td>3000</td>\n",
       "    </tr>\n",
       "    <tr>\n",
       "      <th>unique</th>\n",
       "      <td>10</td>\n",
       "      <td>6</td>\n",
       "      <td>7</td>\n",
       "      <td>4</td>\n",
       "      <td>4</td>\n",
       "      <td>5</td>\n",
       "    </tr>\n",
       "    <tr>\n",
       "      <th>top</th>\n",
       "      <td>UK</td>\n",
       "      <td>DDoS</td>\n",
       "      <td>IT</td>\n",
       "      <td>Nation-state</td>\n",
       "      <td>Zero-day</td>\n",
       "      <td>Antivirus</td>\n",
       "    </tr>\n",
       "    <tr>\n",
       "      <th>freq</th>\n",
       "      <td>321</td>\n",
       "      <td>531</td>\n",
       "      <td>478</td>\n",
       "      <td>794</td>\n",
       "      <td>785</td>\n",
       "      <td>628</td>\n",
       "    </tr>\n",
       "  </tbody>\n",
       "</table>\n",
       "</div>"
      ],
      "text/plain": [
       "       Country Attack Type Target Industry Attack Source  \\\n",
       "count     3000        3000            3000          3000   \n",
       "unique      10           6               7             4   \n",
       "top         UK        DDoS              IT  Nation-state   \n",
       "freq       321         531             478           794   \n",
       "\n",
       "       Security Vulnerability Type Defense Mechanism Used  \n",
       "count                         3000                   3000  \n",
       "unique                           4                      5  \n",
       "top                       Zero-day              Antivirus  \n",
       "freq                           785                    628  "
      ]
     },
     "execution_count": 15,
     "metadata": {},
     "output_type": "execute_result"
    }
   ],
   "source": [
    "df.describe(include='object')"
   ]
  },
  {
   "cell_type": "code",
   "execution_count": 16,
   "metadata": {
    "tags": []
   },
   "outputs": [
    {
     "data": {
      "text/plain": [
       "Index(['Country', 'Year', 'Attack Type', 'Target Industry',\n",
       "       'Financial Loss (in Million $)', 'Number of Affected Users',\n",
       "       'Attack Source', 'Security Vulnerability Type',\n",
       "       'Defense Mechanism Used', 'Incident Resolution Time (in Hours)'],\n",
       "      dtype='object')"
      ]
     },
     "execution_count": 16,
     "metadata": {},
     "output_type": "execute_result"
    }
   ],
   "source": [
    "df.columns"
   ]
  },
  {
   "cell_type": "code",
   "execution_count": 17,
   "metadata": {
    "tags": []
   },
   "outputs": [
    {
     "data": {
      "text/plain": [
       "Attack Type\n",
       "DDoS                 531\n",
       "Phishing             529\n",
       "SQL Injection        503\n",
       "Ransomware           493\n",
       "Malware              485\n",
       "Man-in-the-Middle    459\n",
       "Name: count, dtype: int64"
      ]
     },
     "execution_count": 17,
     "metadata": {},
     "output_type": "execute_result"
    }
   ],
   "source": [
    "df['Attack Type'].value_counts()"
   ]
  },
  {
   "cell_type": "code",
   "execution_count": 18,
   "metadata": {
    "tags": []
   },
   "outputs": [
    {
     "data": {
      "text/html": [
       "<div>\n",
       "<style scoped>\n",
       "    .dataframe tbody tr th:only-of-type {\n",
       "        vertical-align: middle;\n",
       "    }\n",
       "\n",
       "    .dataframe tbody tr th {\n",
       "        vertical-align: top;\n",
       "    }\n",
       "\n",
       "    .dataframe thead th {\n",
       "        text-align: right;\n",
       "    }\n",
       "</style>\n",
       "<table border=\"1\" class=\"dataframe\">\n",
       "  <thead>\n",
       "    <tr style=\"text-align: right;\">\n",
       "      <th></th>\n",
       "      <th>Attack Type</th>\n",
       "      <th>Target Industry</th>\n",
       "      <th>Financial Loss (in Million $)</th>\n",
       "      <th>Number of Affected Users</th>\n",
       "    </tr>\n",
       "  </thead>\n",
       "  <tbody>\n",
       "    <tr>\n",
       "      <th>0</th>\n",
       "      <td>Phishing</td>\n",
       "      <td>Education</td>\n",
       "      <td>80.53</td>\n",
       "      <td>773169</td>\n",
       "    </tr>\n",
       "    <tr>\n",
       "      <th>1</th>\n",
       "      <td>Ransomware</td>\n",
       "      <td>Retail</td>\n",
       "      <td>62.19</td>\n",
       "      <td>295961</td>\n",
       "    </tr>\n",
       "    <tr>\n",
       "      <th>2</th>\n",
       "      <td>Man-in-the-Middle</td>\n",
       "      <td>IT</td>\n",
       "      <td>38.65</td>\n",
       "      <td>605895</td>\n",
       "    </tr>\n",
       "    <tr>\n",
       "      <th>3</th>\n",
       "      <td>Ransomware</td>\n",
       "      <td>Telecommunications</td>\n",
       "      <td>41.44</td>\n",
       "      <td>659320</td>\n",
       "    </tr>\n",
       "    <tr>\n",
       "      <th>4</th>\n",
       "      <td>Man-in-the-Middle</td>\n",
       "      <td>IT</td>\n",
       "      <td>74.41</td>\n",
       "      <td>810682</td>\n",
       "    </tr>\n",
       "    <tr>\n",
       "      <th>5</th>\n",
       "      <td>Man-in-the-Middle</td>\n",
       "      <td>Retail</td>\n",
       "      <td>98.24</td>\n",
       "      <td>285201</td>\n",
       "    </tr>\n",
       "    <tr>\n",
       "      <th>6</th>\n",
       "      <td>DDoS</td>\n",
       "      <td>Telecommunications</td>\n",
       "      <td>33.26</td>\n",
       "      <td>431262</td>\n",
       "    </tr>\n",
       "    <tr>\n",
       "      <th>7</th>\n",
       "      <td>SQL Injection</td>\n",
       "      <td>Government</td>\n",
       "      <td>59.23</td>\n",
       "      <td>909991</td>\n",
       "    </tr>\n",
       "    <tr>\n",
       "      <th>8</th>\n",
       "      <td>Man-in-the-Middle</td>\n",
       "      <td>Banking</td>\n",
       "      <td>16.88</td>\n",
       "      <td>698249</td>\n",
       "    </tr>\n",
       "    <tr>\n",
       "      <th>9</th>\n",
       "      <td>DDoS</td>\n",
       "      <td>Healthcare</td>\n",
       "      <td>69.14</td>\n",
       "      <td>685927</td>\n",
       "    </tr>\n",
       "    <tr>\n",
       "      <th>10</th>\n",
       "      <td>Phishing</td>\n",
       "      <td>Telecommunications</td>\n",
       "      <td>88.67</td>\n",
       "      <td>493675</td>\n",
       "    </tr>\n",
       "    <tr>\n",
       "      <th>11</th>\n",
       "      <td>SQL Injection</td>\n",
       "      <td>Healthcare</td>\n",
       "      <td>38.81</td>\n",
       "      <td>920768</td>\n",
       "    </tr>\n",
       "    <tr>\n",
       "      <th>12</th>\n",
       "      <td>Ransomware</td>\n",
       "      <td>Education</td>\n",
       "      <td>30.56</td>\n",
       "      <td>583204</td>\n",
       "    </tr>\n",
       "    <tr>\n",
       "      <th>13</th>\n",
       "      <td>DDoS</td>\n",
       "      <td>Healthcare</td>\n",
       "      <td>58.37</td>\n",
       "      <td>599797</td>\n",
       "    </tr>\n",
       "    <tr>\n",
       "      <th>14</th>\n",
       "      <td>DDoS</td>\n",
       "      <td>IT</td>\n",
       "      <td>48.01</td>\n",
       "      <td>922258</td>\n",
       "    </tr>\n",
       "  </tbody>\n",
       "</table>\n",
       "</div>"
      ],
      "text/plain": [
       "          Attack Type     Target Industry  Financial Loss (in Million $)  \\\n",
       "0            Phishing           Education                          80.53   \n",
       "1          Ransomware              Retail                          62.19   \n",
       "2   Man-in-the-Middle                  IT                          38.65   \n",
       "3          Ransomware  Telecommunications                          41.44   \n",
       "4   Man-in-the-Middle                  IT                          74.41   \n",
       "5   Man-in-the-Middle              Retail                          98.24   \n",
       "6                DDoS  Telecommunications                          33.26   \n",
       "7       SQL Injection          Government                          59.23   \n",
       "8   Man-in-the-Middle             Banking                          16.88   \n",
       "9                DDoS          Healthcare                          69.14   \n",
       "10           Phishing  Telecommunications                          88.67   \n",
       "11      SQL Injection          Healthcare                          38.81   \n",
       "12         Ransomware           Education                          30.56   \n",
       "13               DDoS          Healthcare                          58.37   \n",
       "14               DDoS                  IT                          48.01   \n",
       "\n",
       "    Number of Affected Users  \n",
       "0                     773169  \n",
       "1                     295961  \n",
       "2                     605895  \n",
       "3                     659320  \n",
       "4                     810682  \n",
       "5                     285201  \n",
       "6                     431262  \n",
       "7                     909991  \n",
       "8                     698249  \n",
       "9                     685927  \n",
       "10                    493675  \n",
       "11                    920768  \n",
       "12                    583204  \n",
       "13                    599797  \n",
       "14                    922258  "
      ]
     },
     "execution_count": 18,
     "metadata": {},
     "output_type": "execute_result"
    }
   ],
   "source": [
    "df[ ['Attack Type', 'Target Industry', 'Financial Loss (in Million $)', 'Number of Affected Users'] ].head(15)  "
   ]
  },
  {
   "cell_type": "code",
   "execution_count": 21,
   "metadata": {
    "tags": []
   },
   "outputs": [
    {
     "data": {
      "text/plain": [
       "Target Industry\n",
       "Education    419\n",
       "Name: count, dtype: int64"
      ]
     },
     "execution_count": 21,
     "metadata": {},
     "output_type": "execute_result"
    }
   ],
   "source": [
    "education_df = df.loc[ df['Target Industry'] == 'Education' ] \n",
    "education_df2 = df[ df['Target Industry'] == 'Education' ] \n",
    "\n",
    "education_df['Target Industry'].value_counts()\n"
   ]
  },
  {
   "cell_type": "code",
   "execution_count": 22,
   "metadata": {
    "tags": []
   },
   "outputs": [
    {
     "data": {
      "text/plain": [
       "Target Industry\n",
       "Education    419\n",
       "Name: count, dtype: int64"
      ]
     },
     "execution_count": 22,
     "metadata": {},
     "output_type": "execute_result"
    }
   ],
   "source": [
    "education_df2['Target Industry'].value_counts()"
   ]
  },
  {
   "cell_type": "code",
   "execution_count": 23,
   "metadata": {
    "tags": []
   },
   "outputs": [
    {
     "data": {
      "text/plain": [
       "High resolution time\n",
       "Yes    2009\n",
       "No      991\n",
       "Name: count, dtype: int64"
      ]
     },
     "execution_count": 23,
     "metadata": {},
     "output_type": "execute_result"
    }
   ],
   "source": [
    "\n",
    "df.loc[ (df['Incident Resolution Time (in Hours)'] > 24), 'High resolution time' ] = 'Yes'\n",
    "df.loc[ df['Incident Resolution Time (in Hours)'] <= 24, 'High resolution time' ] = 'No'\n",
    "\n",
    "df['High resolution time'].value_counts()"
   ]
  },
  {
   "cell_type": "code",
   "execution_count": 25,
   "metadata": {
    "tags": []
   },
   "outputs": [
    {
     "data": {
      "text/plain": [
       "High resolution time\n",
       "No      1\n",
       "Yes    25\n",
       "Name: Incident Resolution Time (in Hours), dtype: int64"
      ]
     },
     "execution_count": 25,
     "metadata": {},
     "output_type": "execute_result"
    }
   ],
   "source": [
    "df.groupby('High resolution time')['Incident Resolution Time (in Hours)'].min()"
   ]
  },
  {
   "cell_type": "code",
   "execution_count": 26,
   "metadata": {
    "tags": []
   },
   "outputs": [
    {
     "data": {
      "text/plain": [
       "High resolution time\n",
       "No     24\n",
       "Yes    72\n",
       "Name: Incident Resolution Time (in Hours), dtype: int64"
      ]
     },
     "execution_count": 26,
     "metadata": {},
     "output_type": "execute_result"
    }
   ],
   "source": [
    "df.groupby('High resolution time')['Incident Resolution Time (in Hours)'].max()"
   ]
  },
  {
   "cell_type": "code",
   "execution_count": null,
   "metadata": {
    "tags": []
   },
   "outputs": [],
   "source": []
  },
  {
   "cell_type": "code",
   "execution_count": null,
   "metadata": {},
   "outputs": [],
   "source": []
  },
  {
   "cell_type": "markdown",
   "metadata": {},
   "source": [
    "Let's create a subset that just includes attacks in education."
   ]
  },
  {
   "cell_type": "code",
   "execution_count": null,
   "metadata": {
    "tags": []
   },
   "outputs": [],
   "source": []
  },
  {
   "cell_type": "code",
   "execution_count": null,
   "metadata": {
    "tags": []
   },
   "outputs": [],
   "source": []
  },
  {
   "cell_type": "code",
   "execution_count": null,
   "metadata": {
    "tags": []
   },
   "outputs": [],
   "source": []
  },
  {
   "cell_type": "code",
   "execution_count": null,
   "metadata": {
    "tags": []
   },
   "outputs": [],
   "source": []
  },
  {
   "cell_type": "markdown",
   "metadata": {},
   "source": [
    "Let's create a new feature where we categorize incident resolution time as > 24 hours or <=24 hours"
   ]
  },
  {
   "cell_type": "code",
   "execution_count": null,
   "metadata": {
    "tags": []
   },
   "outputs": [],
   "source": []
  },
  {
   "cell_type": "code",
   "execution_count": null,
   "metadata": {
    "tags": []
   },
   "outputs": [],
   "source": []
  },
  {
   "cell_type": "markdown",
   "metadata": {},
   "source": [
    "Sort the dataframe by 'Number of Affected Users' in descending order"
   ]
  },
  {
   "cell_type": "code",
   "execution_count": 28,
   "metadata": {
    "tags": []
   },
   "outputs": [
    {
     "data": {
      "text/html": [
       "<div>\n",
       "<style scoped>\n",
       "    .dataframe tbody tr th:only-of-type {\n",
       "        vertical-align: middle;\n",
       "    }\n",
       "\n",
       "    .dataframe tbody tr th {\n",
       "        vertical-align: top;\n",
       "    }\n",
       "\n",
       "    .dataframe thead th {\n",
       "        text-align: right;\n",
       "    }\n",
       "</style>\n",
       "<table border=\"1\" class=\"dataframe\">\n",
       "  <thead>\n",
       "    <tr style=\"text-align: right;\">\n",
       "      <th></th>\n",
       "      <th>Country</th>\n",
       "      <th>Year</th>\n",
       "      <th>Attack Type</th>\n",
       "      <th>Target Industry</th>\n",
       "      <th>Financial Loss (in Million $)</th>\n",
       "      <th>Number of Affected Users</th>\n",
       "      <th>Attack Source</th>\n",
       "      <th>Security Vulnerability Type</th>\n",
       "      <th>Defense Mechanism Used</th>\n",
       "      <th>Incident Resolution Time (in Hours)</th>\n",
       "      <th>High resolution time</th>\n",
       "    </tr>\n",
       "  </thead>\n",
       "  <tbody>\n",
       "    <tr>\n",
       "      <th>134</th>\n",
       "      <td>France</td>\n",
       "      <td>2015</td>\n",
       "      <td>Malware</td>\n",
       "      <td>Education</td>\n",
       "      <td>15.76</td>\n",
       "      <td>424</td>\n",
       "      <td>Nation-state</td>\n",
       "      <td>Unpatched Software</td>\n",
       "      <td>Antivirus</td>\n",
       "      <td>58</td>\n",
       "      <td>Yes</td>\n",
       "    </tr>\n",
       "    <tr>\n",
       "      <th>1503</th>\n",
       "      <td>India</td>\n",
       "      <td>2021</td>\n",
       "      <td>Malware</td>\n",
       "      <td>Telecommunications</td>\n",
       "      <td>82.66</td>\n",
       "      <td>586</td>\n",
       "      <td>Hacker Group</td>\n",
       "      <td>Zero-day</td>\n",
       "      <td>VPN</td>\n",
       "      <td>23</td>\n",
       "      <td>No</td>\n",
       "    </tr>\n",
       "    <tr>\n",
       "      <th>1637</th>\n",
       "      <td>UK</td>\n",
       "      <td>2016</td>\n",
       "      <td>DDoS</td>\n",
       "      <td>Telecommunications</td>\n",
       "      <td>74.50</td>\n",
       "      <td>735</td>\n",
       "      <td>Hacker Group</td>\n",
       "      <td>Unpatched Software</td>\n",
       "      <td>Firewall</td>\n",
       "      <td>69</td>\n",
       "      <td>Yes</td>\n",
       "    </tr>\n",
       "    <tr>\n",
       "      <th>1185</th>\n",
       "      <td>Brazil</td>\n",
       "      <td>2018</td>\n",
       "      <td>Man-in-the-Middle</td>\n",
       "      <td>Retail</td>\n",
       "      <td>76.39</td>\n",
       "      <td>984</td>\n",
       "      <td>Insider</td>\n",
       "      <td>Unpatched Software</td>\n",
       "      <td>Firewall</td>\n",
       "      <td>56</td>\n",
       "      <td>Yes</td>\n",
       "    </tr>\n",
       "    <tr>\n",
       "      <th>577</th>\n",
       "      <td>USA</td>\n",
       "      <td>2024</td>\n",
       "      <td>DDoS</td>\n",
       "      <td>Retail</td>\n",
       "      <td>15.34</td>\n",
       "      <td>1068</td>\n",
       "      <td>Insider</td>\n",
       "      <td>Social Engineering</td>\n",
       "      <td>Firewall</td>\n",
       "      <td>3</td>\n",
       "      <td>No</td>\n",
       "    </tr>\n",
       "  </tbody>\n",
       "</table>\n",
       "</div>"
      ],
      "text/plain": [
       "     Country  Year        Attack Type     Target Industry  \\\n",
       "134   France  2015            Malware           Education   \n",
       "1503   India  2021            Malware  Telecommunications   \n",
       "1637      UK  2016               DDoS  Telecommunications   \n",
       "1185  Brazil  2018  Man-in-the-Middle              Retail   \n",
       "577      USA  2024               DDoS              Retail   \n",
       "\n",
       "      Financial Loss (in Million $)  Number of Affected Users Attack Source  \\\n",
       "134                           15.76                       424  Nation-state   \n",
       "1503                          82.66                       586  Hacker Group   \n",
       "1637                          74.50                       735  Hacker Group   \n",
       "1185                          76.39                       984       Insider   \n",
       "577                           15.34                      1068       Insider   \n",
       "\n",
       "     Security Vulnerability Type Defense Mechanism Used  \\\n",
       "134           Unpatched Software              Antivirus   \n",
       "1503                    Zero-day                    VPN   \n",
       "1637          Unpatched Software               Firewall   \n",
       "1185          Unpatched Software               Firewall   \n",
       "577           Social Engineering               Firewall   \n",
       "\n",
       "      Incident Resolution Time (in Hours) High resolution time  \n",
       "134                                    58                  Yes  \n",
       "1503                                   23                   No  \n",
       "1637                                   69                  Yes  \n",
       "1185                                   56                  Yes  \n",
       "577                                     3                   No  "
      ]
     },
     "execution_count": 28,
     "metadata": {},
     "output_type": "execute_result"
    }
   ],
   "source": [
    "df.sort_values(by='Number of Affected Users')\n",
    "\n",
    "sorted_df = df.sort_values(by='Number of Affected Users')\n",
    "\n",
    "sorted_df.head()"
   ]
  },
  {
   "cell_type": "code",
   "execution_count": 29,
   "metadata": {
    "tags": []
   },
   "outputs": [
    {
     "data": {
      "text/html": [
       "<div>\n",
       "<style scoped>\n",
       "    .dataframe tbody tr th:only-of-type {\n",
       "        vertical-align: middle;\n",
       "    }\n",
       "\n",
       "    .dataframe tbody tr th {\n",
       "        vertical-align: top;\n",
       "    }\n",
       "\n",
       "    .dataframe thead th {\n",
       "        text-align: right;\n",
       "    }\n",
       "</style>\n",
       "<table border=\"1\" class=\"dataframe\">\n",
       "  <thead>\n",
       "    <tr style=\"text-align: right;\">\n",
       "      <th></th>\n",
       "      <th>Country</th>\n",
       "      <th>Year</th>\n",
       "      <th>Attack Type</th>\n",
       "      <th>Target Industry</th>\n",
       "      <th>Financial Loss (in Million $)</th>\n",
       "      <th>Number of Affected Users</th>\n",
       "      <th>Attack Source</th>\n",
       "      <th>Security Vulnerability Type</th>\n",
       "      <th>Defense Mechanism Used</th>\n",
       "      <th>Incident Resolution Time (in Hours)</th>\n",
       "      <th>High resolution time</th>\n",
       "    </tr>\n",
       "  </thead>\n",
       "  <tbody>\n",
       "    <tr>\n",
       "      <th>134</th>\n",
       "      <td>France</td>\n",
       "      <td>2015</td>\n",
       "      <td>Malware</td>\n",
       "      <td>Education</td>\n",
       "      <td>15.76</td>\n",
       "      <td>424</td>\n",
       "      <td>Nation-state</td>\n",
       "      <td>Unpatched Software</td>\n",
       "      <td>Antivirus</td>\n",
       "      <td>58</td>\n",
       "      <td>Yes</td>\n",
       "    </tr>\n",
       "    <tr>\n",
       "      <th>1503</th>\n",
       "      <td>India</td>\n",
       "      <td>2021</td>\n",
       "      <td>Malware</td>\n",
       "      <td>Telecommunications</td>\n",
       "      <td>82.66</td>\n",
       "      <td>586</td>\n",
       "      <td>Hacker Group</td>\n",
       "      <td>Zero-day</td>\n",
       "      <td>VPN</td>\n",
       "      <td>23</td>\n",
       "      <td>No</td>\n",
       "    </tr>\n",
       "    <tr>\n",
       "      <th>1637</th>\n",
       "      <td>UK</td>\n",
       "      <td>2016</td>\n",
       "      <td>DDoS</td>\n",
       "      <td>Telecommunications</td>\n",
       "      <td>74.50</td>\n",
       "      <td>735</td>\n",
       "      <td>Hacker Group</td>\n",
       "      <td>Unpatched Software</td>\n",
       "      <td>Firewall</td>\n",
       "      <td>69</td>\n",
       "      <td>Yes</td>\n",
       "    </tr>\n",
       "    <tr>\n",
       "      <th>1185</th>\n",
       "      <td>Brazil</td>\n",
       "      <td>2018</td>\n",
       "      <td>Man-in-the-Middle</td>\n",
       "      <td>Retail</td>\n",
       "      <td>76.39</td>\n",
       "      <td>984</td>\n",
       "      <td>Insider</td>\n",
       "      <td>Unpatched Software</td>\n",
       "      <td>Firewall</td>\n",
       "      <td>56</td>\n",
       "      <td>Yes</td>\n",
       "    </tr>\n",
       "    <tr>\n",
       "      <th>577</th>\n",
       "      <td>USA</td>\n",
       "      <td>2024</td>\n",
       "      <td>DDoS</td>\n",
       "      <td>Retail</td>\n",
       "      <td>15.34</td>\n",
       "      <td>1068</td>\n",
       "      <td>Insider</td>\n",
       "      <td>Social Engineering</td>\n",
       "      <td>Firewall</td>\n",
       "      <td>3</td>\n",
       "      <td>No</td>\n",
       "    </tr>\n",
       "  </tbody>\n",
       "</table>\n",
       "</div>"
      ],
      "text/plain": [
       "     Country  Year        Attack Type     Target Industry  \\\n",
       "134   France  2015            Malware           Education   \n",
       "1503   India  2021            Malware  Telecommunications   \n",
       "1637      UK  2016               DDoS  Telecommunications   \n",
       "1185  Brazil  2018  Man-in-the-Middle              Retail   \n",
       "577      USA  2024               DDoS              Retail   \n",
       "\n",
       "      Financial Loss (in Million $)  Number of Affected Users Attack Source  \\\n",
       "134                           15.76                       424  Nation-state   \n",
       "1503                          82.66                       586  Hacker Group   \n",
       "1637                          74.50                       735  Hacker Group   \n",
       "1185                          76.39                       984       Insider   \n",
       "577                           15.34                      1068       Insider   \n",
       "\n",
       "     Security Vulnerability Type Defense Mechanism Used  \\\n",
       "134           Unpatched Software              Antivirus   \n",
       "1503                    Zero-day                    VPN   \n",
       "1637          Unpatched Software               Firewall   \n",
       "1185          Unpatched Software               Firewall   \n",
       "577           Social Engineering               Firewall   \n",
       "\n",
       "      Incident Resolution Time (in Hours) High resolution time  \n",
       "134                                    58                  Yes  \n",
       "1503                                   23                   No  \n",
       "1637                                   69                  Yes  \n",
       "1185                                   56                  Yes  \n",
       "577                                     3                   No  "
      ]
     },
     "execution_count": 29,
     "metadata": {},
     "output_type": "execute_result"
    }
   ],
   "source": [
    "df.sort_values(by='Number of Affected Users', inplace=True)\n",
    "\n",
    "df.head()"
   ]
  },
  {
   "cell_type": "code",
   "execution_count": null,
   "metadata": {
    "tags": []
   },
   "outputs": [],
   "source": []
  },
  {
   "cell_type": "code",
   "execution_count": 31,
   "metadata": {
    "tags": []
   },
   "outputs": [
    {
     "data": {
      "text/plain": [
       "Country                                0\n",
       "Year                                   0\n",
       "Attack Type                            0\n",
       "Target Industry                        0\n",
       "Financial Loss (in Million $)          0\n",
       "Number of Affected Users               0\n",
       "Attack Source                          0\n",
       "Security Vulnerability Type            0\n",
       "Defense Mechanism Used                 0\n",
       "Incident Resolution Time (in Hours)    0\n",
       "High resolution time                   0\n",
       "dtype: int64"
      ]
     },
     "execution_count": 31,
     "metadata": {},
     "output_type": "execute_result"
    }
   ],
   "source": [
    "df.isnull().sum()"
   ]
  },
  {
   "cell_type": "markdown",
   "metadata": {},
   "source": [
    "Calculate the average number of affected users by attack type."
   ]
  },
  {
   "cell_type": "code",
   "execution_count": 32,
   "metadata": {
    "tags": []
   },
   "outputs": [
    {
     "name": "stdout",
     "output_type": "stream",
     "text": [
      "<class 'pandas.core.frame.DataFrame'>\n",
      "Index: 3000 entries, 134 to 2045\n",
      "Data columns (total 11 columns):\n",
      " #   Column                               Non-Null Count  Dtype  \n",
      "---  ------                               --------------  -----  \n",
      " 0   Country                              3000 non-null   object \n",
      " 1   Year                                 3000 non-null   int64  \n",
      " 2   Attack Type                          3000 non-null   object \n",
      " 3   Target Industry                      3000 non-null   object \n",
      " 4   Financial Loss (in Million $)        3000 non-null   float64\n",
      " 5   Number of Affected Users             3000 non-null   int64  \n",
      " 6   Attack Source                        3000 non-null   object \n",
      " 7   Security Vulnerability Type          3000 non-null   object \n",
      " 8   Defense Mechanism Used               3000 non-null   object \n",
      " 9   Incident Resolution Time (in Hours)  3000 non-null   int64  \n",
      " 10  High resolution time                 3000 non-null   object \n",
      "dtypes: float64(1), int64(3), object(7)\n",
      "memory usage: 281.2+ KB\n"
     ]
    }
   ],
   "source": [
    "df.info()"
   ]
  },
  {
   "cell_type": "code",
   "execution_count": 33,
   "metadata": {
    "tags": []
   },
   "outputs": [
    {
     "data": {
      "text/html": [
       "<div>\n",
       "<style scoped>\n",
       "    .dataframe tbody tr th:only-of-type {\n",
       "        vertical-align: middle;\n",
       "    }\n",
       "\n",
       "    .dataframe tbody tr th {\n",
       "        vertical-align: top;\n",
       "    }\n",
       "\n",
       "    .dataframe thead th {\n",
       "        text-align: right;\n",
       "    }\n",
       "</style>\n",
       "<table border=\"1\" class=\"dataframe\">\n",
       "  <thead>\n",
       "    <tr style=\"text-align: right;\">\n",
       "      <th></th>\n",
       "      <th>PassengerId</th>\n",
       "      <th>Survived</th>\n",
       "      <th>Pclass</th>\n",
       "      <th>Name</th>\n",
       "      <th>Sex</th>\n",
       "      <th>Age</th>\n",
       "      <th>SibSp</th>\n",
       "      <th>Parch</th>\n",
       "      <th>Ticket</th>\n",
       "      <th>Fare</th>\n",
       "      <th>Cabin</th>\n",
       "      <th>Embarked</th>\n",
       "    </tr>\n",
       "  </thead>\n",
       "  <tbody>\n",
       "    <tr>\n",
       "      <th>0</th>\n",
       "      <td>1</td>\n",
       "      <td>0</td>\n",
       "      <td>3</td>\n",
       "      <td>Braund, Mr. Owen Harris</td>\n",
       "      <td>male</td>\n",
       "      <td>22.0</td>\n",
       "      <td>1</td>\n",
       "      <td>0</td>\n",
       "      <td>A/5 21171</td>\n",
       "      <td>7.2500</td>\n",
       "      <td>NaN</td>\n",
       "      <td>S</td>\n",
       "    </tr>\n",
       "    <tr>\n",
       "      <th>1</th>\n",
       "      <td>2</td>\n",
       "      <td>1</td>\n",
       "      <td>1</td>\n",
       "      <td>Cumings, Mrs. John Bradley (Florence Briggs Th...</td>\n",
       "      <td>female</td>\n",
       "      <td>38.0</td>\n",
       "      <td>1</td>\n",
       "      <td>0</td>\n",
       "      <td>PC 17599</td>\n",
       "      <td>71.2833</td>\n",
       "      <td>C85</td>\n",
       "      <td>C</td>\n",
       "    </tr>\n",
       "    <tr>\n",
       "      <th>2</th>\n",
       "      <td>3</td>\n",
       "      <td>1</td>\n",
       "      <td>3</td>\n",
       "      <td>Heikkinen, Miss. Laina</td>\n",
       "      <td>female</td>\n",
       "      <td>26.0</td>\n",
       "      <td>0</td>\n",
       "      <td>0</td>\n",
       "      <td>STON/O2. 3101282</td>\n",
       "      <td>7.9250</td>\n",
       "      <td>NaN</td>\n",
       "      <td>S</td>\n",
       "    </tr>\n",
       "    <tr>\n",
       "      <th>3</th>\n",
       "      <td>4</td>\n",
       "      <td>1</td>\n",
       "      <td>1</td>\n",
       "      <td>Futrelle, Mrs. Jacques Heath (Lily May Peel)</td>\n",
       "      <td>female</td>\n",
       "      <td>35.0</td>\n",
       "      <td>1</td>\n",
       "      <td>0</td>\n",
       "      <td>113803</td>\n",
       "      <td>53.1000</td>\n",
       "      <td>C123</td>\n",
       "      <td>S</td>\n",
       "    </tr>\n",
       "    <tr>\n",
       "      <th>4</th>\n",
       "      <td>5</td>\n",
       "      <td>0</td>\n",
       "      <td>3</td>\n",
       "      <td>Allen, Mr. William Henry</td>\n",
       "      <td>male</td>\n",
       "      <td>35.0</td>\n",
       "      <td>0</td>\n",
       "      <td>0</td>\n",
       "      <td>373450</td>\n",
       "      <td>8.0500</td>\n",
       "      <td>NaN</td>\n",
       "      <td>S</td>\n",
       "    </tr>\n",
       "  </tbody>\n",
       "</table>\n",
       "</div>"
      ],
      "text/plain": [
       "   PassengerId  Survived  Pclass  \\\n",
       "0            1         0       3   \n",
       "1            2         1       1   \n",
       "2            3         1       3   \n",
       "3            4         1       1   \n",
       "4            5         0       3   \n",
       "\n",
       "                                                Name     Sex   Age  SibSp  \\\n",
       "0                            Braund, Mr. Owen Harris    male  22.0      1   \n",
       "1  Cumings, Mrs. John Bradley (Florence Briggs Th...  female  38.0      1   \n",
       "2                             Heikkinen, Miss. Laina  female  26.0      0   \n",
       "3       Futrelle, Mrs. Jacques Heath (Lily May Peel)  female  35.0      1   \n",
       "4                           Allen, Mr. William Henry    male  35.0      0   \n",
       "\n",
       "   Parch            Ticket     Fare Cabin Embarked  \n",
       "0      0         A/5 21171   7.2500   NaN        S  \n",
       "1      0          PC 17599  71.2833   C85        C  \n",
       "2      0  STON/O2. 3101282   7.9250   NaN        S  \n",
       "3      0            113803  53.1000  C123        S  \n",
       "4      0            373450   8.0500   NaN        S  "
      ]
     },
     "execution_count": 33,
     "metadata": {},
     "output_type": "execute_result"
    }
   ],
   "source": [
    "\n",
    "titanic_df = pd.read_csv('assets/titanic_passengers.csv')\n",
    "\n",
    "titanic_df.head()"
   ]
  },
  {
   "cell_type": "code",
   "execution_count": 34,
   "metadata": {
    "tags": []
   },
   "outputs": [
    {
     "data": {
      "text/plain": [
       "PassengerId      0\n",
       "Survived         0\n",
       "Pclass           0\n",
       "Name             0\n",
       "Sex              0\n",
       "Age            177\n",
       "SibSp            0\n",
       "Parch            0\n",
       "Ticket           0\n",
       "Fare             0\n",
       "Cabin          687\n",
       "Embarked         2\n",
       "dtype: int64"
      ]
     },
     "execution_count": 34,
     "metadata": {},
     "output_type": "execute_result"
    }
   ],
   "source": [
    "titanic_df.isnull().sum()"
   ]
  },
  {
   "cell_type": "code",
   "execution_count": 40,
   "metadata": {
    "tags": []
   },
   "outputs": [],
   "source": [
    "df['Year'] = pd.to_datetime(df['Year'], format='%Y')"
   ]
  },
  {
   "cell_type": "code",
   "execution_count": 41,
   "metadata": {
    "tags": []
   },
   "outputs": [
    {
     "name": "stdout",
     "output_type": "stream",
     "text": [
      "<class 'pandas.core.frame.DataFrame'>\n",
      "Index: 3000 entries, 134 to 2045\n",
      "Data columns (total 11 columns):\n",
      " #   Column                               Non-Null Count  Dtype         \n",
      "---  ------                               --------------  -----         \n",
      " 0   Country                              3000 non-null   object        \n",
      " 1   Year                                 3000 non-null   datetime64[ns]\n",
      " 2   Attack Type                          3000 non-null   object        \n",
      " 3   Target Industry                      3000 non-null   object        \n",
      " 4   Financial Loss (in Million $)        3000 non-null   float64       \n",
      " 5   Number of Affected Users             3000 non-null   int64         \n",
      " 6   Attack Source                        3000 non-null   object        \n",
      " 7   Security Vulnerability Type          3000 non-null   object        \n",
      " 8   Defense Mechanism Used               3000 non-null   object        \n",
      " 9   Incident Resolution Time (in Hours)  3000 non-null   int64         \n",
      " 10  High resolution time                 3000 non-null   object        \n",
      "dtypes: datetime64[ns](1), float64(1), int64(2), object(7)\n",
      "memory usage: 281.2+ KB\n"
     ]
    }
   ],
   "source": [
    "df.info()"
   ]
  },
  {
   "cell_type": "markdown",
   "metadata": {},
   "source": [
    "## The case for using AI\n"
   ]
  },
  {
   "cell_type": "markdown",
   "metadata": {},
   "source": [
    "When is using AI a good idea?"
   ]
  },
  {
   "cell_type": "markdown",
   "metadata": {},
   "source": []
  },
  {
   "cell_type": "markdown",
   "metadata": {},
   "source": [
    "When is using AI a bad idea?"
   ]
  },
  {
   "cell_type": "code",
   "execution_count": 42,
   "metadata": {
    "tags": []
   },
   "outputs": [
    {
     "data": {
      "text/plain": [
       "Year\n",
       "2015-01-01    14510.21\n",
       "2016-01-01    13947.26\n",
       "2017-01-01    16261.68\n",
       "2018-01-01    14720.48\n",
       "2019-01-01    13134.69\n",
       "2020-01-01    15767.95\n",
       "2021-01-01    15873.41\n",
       "2022-01-01    15870.86\n",
       "2023-01-01    15958.08\n",
       "2024-01-01    15434.29\n",
       "Name: Financial Loss (in Million $), dtype: float64"
      ]
     },
     "execution_count": 42,
     "metadata": {},
     "output_type": "execute_result"
    }
   ],
   "source": [
    "df.groupby('Year')['Financial Loss (in Million $)'].sum()\n"
   ]
  },
  {
   "cell_type": "code",
   "execution_count": 43,
   "metadata": {
    "tags": []
   },
   "outputs": [],
   "source": [
    "grouped = (\n",
    "    df\n",
    "    .groupby(['Target Industry', 'Security Vulnerability Type'])['Financial Loss (in Million $)']\n",
    "    .sum()\n",
    "    .reset_index()\n",
    ")"
   ]
  },
  {
   "cell_type": "code",
   "execution_count": 44,
   "metadata": {
    "tags": []
   },
   "outputs": [
    {
     "data": {
      "text/html": [
       "<div>\n",
       "<style scoped>\n",
       "    .dataframe tbody tr th:only-of-type {\n",
       "        vertical-align: middle;\n",
       "    }\n",
       "\n",
       "    .dataframe tbody tr th {\n",
       "        vertical-align: top;\n",
       "    }\n",
       "\n",
       "    .dataframe thead th {\n",
       "        text-align: right;\n",
       "    }\n",
       "</style>\n",
       "<table border=\"1\" class=\"dataframe\">\n",
       "  <thead>\n",
       "    <tr style=\"text-align: right;\">\n",
       "      <th></th>\n",
       "      <th>Target Industry</th>\n",
       "      <th>Security Vulnerability Type</th>\n",
       "      <th>Financial Loss (in Million $)</th>\n",
       "    </tr>\n",
       "  </thead>\n",
       "  <tbody>\n",
       "    <tr>\n",
       "      <th>0</th>\n",
       "      <td>Banking</td>\n",
       "      <td>Social Engineering</td>\n",
       "      <td>6017.19</td>\n",
       "    </tr>\n",
       "    <tr>\n",
       "      <th>1</th>\n",
       "      <td>Banking</td>\n",
       "      <td>Unpatched Software</td>\n",
       "      <td>5528.48</td>\n",
       "    </tr>\n",
       "    <tr>\n",
       "      <th>2</th>\n",
       "      <td>Banking</td>\n",
       "      <td>Weak Passwords</td>\n",
       "      <td>5890.50</td>\n",
       "    </tr>\n",
       "    <tr>\n",
       "      <th>3</th>\n",
       "      <td>Banking</td>\n",
       "      <td>Zero-day</td>\n",
       "      <td>5336.22</td>\n",
       "    </tr>\n",
       "    <tr>\n",
       "      <th>4</th>\n",
       "      <td>Education</td>\n",
       "      <td>Social Engineering</td>\n",
       "      <td>5493.62</td>\n",
       "    </tr>\n",
       "    <tr>\n",
       "      <th>5</th>\n",
       "      <td>Education</td>\n",
       "      <td>Unpatched Software</td>\n",
       "      <td>4486.17</td>\n",
       "    </tr>\n",
       "    <tr>\n",
       "      <th>6</th>\n",
       "      <td>Education</td>\n",
       "      <td>Weak Passwords</td>\n",
       "      <td>4705.49</td>\n",
       "    </tr>\n",
       "    <tr>\n",
       "      <th>7</th>\n",
       "      <td>Education</td>\n",
       "      <td>Zero-day</td>\n",
       "      <td>5386.15</td>\n",
       "    </tr>\n",
       "    <tr>\n",
       "      <th>8</th>\n",
       "      <td>Government</td>\n",
       "      <td>Social Engineering</td>\n",
       "      <td>5210.61</td>\n",
       "    </tr>\n",
       "    <tr>\n",
       "      <th>9</th>\n",
       "      <td>Government</td>\n",
       "      <td>Unpatched Software</td>\n",
       "      <td>4929.17</td>\n",
       "    </tr>\n",
       "    <tr>\n",
       "      <th>10</th>\n",
       "      <td>Government</td>\n",
       "      <td>Weak Passwords</td>\n",
       "      <td>5145.78</td>\n",
       "    </tr>\n",
       "    <tr>\n",
       "      <th>11</th>\n",
       "      <td>Government</td>\n",
       "      <td>Zero-day</td>\n",
       "      <td>5919.77</td>\n",
       "    </tr>\n",
       "    <tr>\n",
       "      <th>12</th>\n",
       "      <td>Healthcare</td>\n",
       "      <td>Social Engineering</td>\n",
       "      <td>5217.04</td>\n",
       "    </tr>\n",
       "    <tr>\n",
       "      <th>13</th>\n",
       "      <td>Healthcare</td>\n",
       "      <td>Unpatched Software</td>\n",
       "      <td>5292.91</td>\n",
       "    </tr>\n",
       "    <tr>\n",
       "      <th>14</th>\n",
       "      <td>Healthcare</td>\n",
       "      <td>Weak Passwords</td>\n",
       "      <td>5746.90</td>\n",
       "    </tr>\n",
       "    <tr>\n",
       "      <th>15</th>\n",
       "      <td>Healthcare</td>\n",
       "      <td>Zero-day</td>\n",
       "      <td>4784.44</td>\n",
       "    </tr>\n",
       "    <tr>\n",
       "      <th>16</th>\n",
       "      <td>IT</td>\n",
       "      <td>Social Engineering</td>\n",
       "      <td>5974.86</td>\n",
       "    </tr>\n",
       "    <tr>\n",
       "      <th>17</th>\n",
       "      <td>IT</td>\n",
       "      <td>Unpatched Software</td>\n",
       "      <td>6079.10</td>\n",
       "    </tr>\n",
       "    <tr>\n",
       "      <th>18</th>\n",
       "      <td>IT</td>\n",
       "      <td>Weak Passwords</td>\n",
       "      <td>6133.43</td>\n",
       "    </tr>\n",
       "    <tr>\n",
       "      <th>19</th>\n",
       "      <td>IT</td>\n",
       "      <td>Zero-day</td>\n",
       "      <td>6622.44</td>\n",
       "    </tr>\n",
       "    <tr>\n",
       "      <th>20</th>\n",
       "      <td>Retail</td>\n",
       "      <td>Social Engineering</td>\n",
       "      <td>5013.06</td>\n",
       "    </tr>\n",
       "    <tr>\n",
       "      <th>21</th>\n",
       "      <td>Retail</td>\n",
       "      <td>Unpatched Software</td>\n",
       "      <td>5305.57</td>\n",
       "    </tr>\n",
       "    <tr>\n",
       "      <th>22</th>\n",
       "      <td>Retail</td>\n",
       "      <td>Weak Passwords</td>\n",
       "      <td>5008.29</td>\n",
       "    </tr>\n",
       "    <tr>\n",
       "      <th>23</th>\n",
       "      <td>Retail</td>\n",
       "      <td>Zero-day</td>\n",
       "      <td>5792.63</td>\n",
       "    </tr>\n",
       "    <tr>\n",
       "      <th>24</th>\n",
       "      <td>Telecommunications</td>\n",
       "      <td>Social Engineering</td>\n",
       "      <td>5100.16</td>\n",
       "    </tr>\n",
       "    <tr>\n",
       "      <th>25</th>\n",
       "      <td>Telecommunications</td>\n",
       "      <td>Unpatched Software</td>\n",
       "      <td>5403.03</td>\n",
       "    </tr>\n",
       "    <tr>\n",
       "      <th>26</th>\n",
       "      <td>Telecommunications</td>\n",
       "      <td>Weak Passwords</td>\n",
       "      <td>4249.01</td>\n",
       "    </tr>\n",
       "    <tr>\n",
       "      <th>27</th>\n",
       "      <td>Telecommunications</td>\n",
       "      <td>Zero-day</td>\n",
       "      <td>5706.89</td>\n",
       "    </tr>\n",
       "  </tbody>\n",
       "</table>\n",
       "</div>"
      ],
      "text/plain": [
       "       Target Industry Security Vulnerability Type  \\\n",
       "0              Banking          Social Engineering   \n",
       "1              Banking          Unpatched Software   \n",
       "2              Banking              Weak Passwords   \n",
       "3              Banking                    Zero-day   \n",
       "4            Education          Social Engineering   \n",
       "5            Education          Unpatched Software   \n",
       "6            Education              Weak Passwords   \n",
       "7            Education                    Zero-day   \n",
       "8           Government          Social Engineering   \n",
       "9           Government          Unpatched Software   \n",
       "10          Government              Weak Passwords   \n",
       "11          Government                    Zero-day   \n",
       "12          Healthcare          Social Engineering   \n",
       "13          Healthcare          Unpatched Software   \n",
       "14          Healthcare              Weak Passwords   \n",
       "15          Healthcare                    Zero-day   \n",
       "16                  IT          Social Engineering   \n",
       "17                  IT          Unpatched Software   \n",
       "18                  IT              Weak Passwords   \n",
       "19                  IT                    Zero-day   \n",
       "20              Retail          Social Engineering   \n",
       "21              Retail          Unpatched Software   \n",
       "22              Retail              Weak Passwords   \n",
       "23              Retail                    Zero-day   \n",
       "24  Telecommunications          Social Engineering   \n",
       "25  Telecommunications          Unpatched Software   \n",
       "26  Telecommunications              Weak Passwords   \n",
       "27  Telecommunications                    Zero-day   \n",
       "\n",
       "    Financial Loss (in Million $)  \n",
       "0                         6017.19  \n",
       "1                         5528.48  \n",
       "2                         5890.50  \n",
       "3                         5336.22  \n",
       "4                         5493.62  \n",
       "5                         4486.17  \n",
       "6                         4705.49  \n",
       "7                         5386.15  \n",
       "8                         5210.61  \n",
       "9                         4929.17  \n",
       "10                        5145.78  \n",
       "11                        5919.77  \n",
       "12                        5217.04  \n",
       "13                        5292.91  \n",
       "14                        5746.90  \n",
       "15                        4784.44  \n",
       "16                        5974.86  \n",
       "17                        6079.10  \n",
       "18                        6133.43  \n",
       "19                        6622.44  \n",
       "20                        5013.06  \n",
       "21                        5305.57  \n",
       "22                        5008.29  \n",
       "23                        5792.63  \n",
       "24                        5100.16  \n",
       "25                        5403.03  \n",
       "26                        4249.01  \n",
       "27                        5706.89  "
      ]
     },
     "execution_count": 44,
     "metadata": {},
     "output_type": "execute_result"
    }
   ],
   "source": [
    "grouped"
   ]
  },
  {
   "cell_type": "code",
   "execution_count": 46,
   "metadata": {
    "tags": []
   },
   "outputs": [
    {
     "data": {
      "text/html": [
       "<div>\n",
       "<style scoped>\n",
       "    .dataframe tbody tr th:only-of-type {\n",
       "        vertical-align: middle;\n",
       "    }\n",
       "\n",
       "    .dataframe tbody tr th {\n",
       "        vertical-align: top;\n",
       "    }\n",
       "\n",
       "    .dataframe thead th {\n",
       "        text-align: right;\n",
       "    }\n",
       "</style>\n",
       "<table border=\"1\" class=\"dataframe\">\n",
       "  <thead>\n",
       "    <tr style=\"text-align: right;\">\n",
       "      <th></th>\n",
       "      <th>Target Industry</th>\n",
       "      <th>Security Vulnerability Type</th>\n",
       "      <th>Financial Loss (in Million $)</th>\n",
       "    </tr>\n",
       "  </thead>\n",
       "  <tbody>\n",
       "    <tr>\n",
       "      <th>0</th>\n",
       "      <td>Banking</td>\n",
       "      <td>Social Engineering</td>\n",
       "      <td>6017.19</td>\n",
       "    </tr>\n",
       "    <tr>\n",
       "      <th>1</th>\n",
       "      <td>Education</td>\n",
       "      <td>Social Engineering</td>\n",
       "      <td>5493.62</td>\n",
       "    </tr>\n",
       "    <tr>\n",
       "      <th>2</th>\n",
       "      <td>Government</td>\n",
       "      <td>Zero-day</td>\n",
       "      <td>5919.77</td>\n",
       "    </tr>\n",
       "    <tr>\n",
       "      <th>3</th>\n",
       "      <td>Healthcare</td>\n",
       "      <td>Weak Passwords</td>\n",
       "      <td>5746.90</td>\n",
       "    </tr>\n",
       "    <tr>\n",
       "      <th>4</th>\n",
       "      <td>IT</td>\n",
       "      <td>Zero-day</td>\n",
       "      <td>6622.44</td>\n",
       "    </tr>\n",
       "    <tr>\n",
       "      <th>5</th>\n",
       "      <td>Retail</td>\n",
       "      <td>Zero-day</td>\n",
       "      <td>5792.63</td>\n",
       "    </tr>\n",
       "    <tr>\n",
       "      <th>6</th>\n",
       "      <td>Telecommunications</td>\n",
       "      <td>Zero-day</td>\n",
       "      <td>5706.89</td>\n",
       "    </tr>\n",
       "  </tbody>\n",
       "</table>\n",
       "</div>"
      ],
      "text/plain": [
       "      Target Industry Security Vulnerability Type  \\\n",
       "0             Banking          Social Engineering   \n",
       "1           Education          Social Engineering   \n",
       "2          Government                    Zero-day   \n",
       "3          Healthcare              Weak Passwords   \n",
       "4                  IT                    Zero-day   \n",
       "5              Retail                    Zero-day   \n",
       "6  Telecommunications                    Zero-day   \n",
       "\n",
       "   Financial Loss (in Million $)  \n",
       "0                        6017.19  \n",
       "1                        5493.62  \n",
       "2                        5919.77  \n",
       "3                        5746.90  \n",
       "4                        6622.44  \n",
       "5                        5792.63  \n",
       "6                        5706.89  "
      ]
     },
     "execution_count": 46,
     "metadata": {},
     "output_type": "execute_result"
    }
   ],
   "source": [
    "idx = grouped.groupby('Target Industry')['Financial Loss (in Million $)'].idxmax()\n",
    "result = grouped.loc[idx].reset_index(drop=True)\n",
    "\n",
    "result"
   ]
  },
  {
   "cell_type": "markdown",
   "metadata": {},
   "source": [
    "## Asking interesting questions\n",
    "\n",
    "What are 5 interesting questions we can ask about our data?\n",
    "\n",
    "How can we use AI to help us write Pandas to answer them?"
   ]
  }
 ],
 "metadata": {
  "anaconda-cloud": {},
  "kernelspec": {
   "display_name": "Python 3 (ipykernel)",
   "language": "python",
   "name": "python3"
  },
  "language_info": {
   "codemirror_mode": {
    "name": "ipython",
    "version": 3
   },
   "file_extension": ".py",
   "mimetype": "text/x-python",
   "name": "python",
   "nbconvert_exporter": "python",
   "pygments_lexer": "ipython3",
   "version": "3.11.4"
  },
  "vscode": {
   "interpreter": {
    "hash": "ce119b89bc2e74c761eac86109834d120346842bff8d13cbadf57b85ac0c1fd2"
   }
  }
 },
 "nbformat": 4,
 "nbformat_minor": 4
}
